{
 "cells": [
  {
   "cell_type": "code",
   "execution_count": 1,
   "metadata": {},
   "outputs": [],
   "source": [
    "from sklearn.feature_extraction.text import TfidfVectorizer\n",
    "import numpy as np\n",
    "\n",
    "corpus = [\n",
    "     'this is the first document mostly',\n",
    "     'this document is the second document',\n",
    "     'and this is the third one',\n",
    "     'is this the first document here',\n",
    "]"
   ]
  },
  {
   "cell_type": "code",
   "execution_count": 23,
   "metadata": {},
   "outputs": [
    {
     "name": "stdout",
     "output_type": "stream",
     "text": [
      "Vocabulary:  {'this': 10, 'is': 4, 'the': 8, 'first': 2, 'document': 1, 'mostly': 5, 'second': 7, 'and': 0, 'third': 9, 'one': 6, 'here': 3}\n"
     ]
    }
   ],
   "source": [
    "vectorizer=TfidfVectorizer()\n",
    "vectorizer.fit(corpus)\n",
    "print('Vocabulary: ',vectorizer.vocabulary_)"
   ]
  },
  {
   "cell_type": "code",
   "execution_count": 24,
   "metadata": {},
   "outputs": [
    {
     "name": "stdout",
     "output_type": "stream",
     "text": [
      "[[0.         0.37835697 0.46734613 0.         0.30933162 0.59276931\n",
      "  0.         0.         0.30933162 0.         0.30933162]\n",
      " [0.         0.6876236  0.         0.         0.28108867 0.\n",
      "  0.         0.53864762 0.28108867 0.         0.28108867]\n",
      " [0.51184851 0.         0.         0.         0.26710379 0.\n",
      "  0.51184851 0.         0.26710379 0.51184851 0.26710379]\n",
      " [0.         0.37835697 0.46734613 0.59276931 0.30933162 0.\n",
      "  0.         0.         0.30933162 0.         0.30933162]]\n"
     ]
    }
   ],
   "source": [
    "vector=vectorizer.transform(corpus)\n",
    "print(vector.toarray())"
   ]
  },
  {
   "cell_type": "code",
   "execution_count": null,
   "metadata": {},
   "outputs": [],
   "source": []
  },
  {
   "cell_type": "code",
   "execution_count": null,
   "metadata": {},
   "outputs": [],
   "source": []
  },
  {
   "cell_type": "code",
   "execution_count": null,
   "metadata": {},
   "outputs": [],
   "source": []
  }
 ],
 "metadata": {
  "kernelspec": {
   "display_name": "Python 3 (ipykernel)",
   "language": "python",
   "name": "python3"
  },
  "language_info": {
   "codemirror_mode": {
    "name": "ipython",
    "version": 3
   },
   "file_extension": ".py",
   "mimetype": "text/x-python",
   "name": "python",
   "nbconvert_exporter": "python",
   "pygments_lexer": "ipython3",
   "version": "3.9.7"
  }
 },
 "nbformat": 4,
 "nbformat_minor": 2
}
