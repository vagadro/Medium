{
 "cells": [
  {
   "cell_type": "markdown",
   "id": "add79087",
   "metadata": {},
   "source": [
    "# Bag Of Words using SKLEARN"
   ]
  },
  {
   "cell_type": "code",
   "execution_count": 63,
   "id": "3e2164cc",
   "metadata": {},
   "outputs": [],
   "source": [
    "from sklearn.feature_extraction.text import CountVectorizer\n",
    "import numpy as np"
   ]
  },
  {
   "cell_type": "code",
   "execution_count": 64,
   "id": "bc09893e",
   "metadata": {},
   "outputs": [],
   "source": [
    "corpus = [\n",
    "     'this coffee is very bad and is expensive',\n",
    "     'this coffee is not bad and is cheap',\n",
    "     'this coffee is not amazing and is not affordable',\n",
    "]"
   ]
  },
  {
   "cell_type": "code",
   "execution_count": 66,
   "id": "a4738825",
   "metadata": {},
   "outputs": [
    {
     "name": "stdout",
     "output_type": "stream",
     "text": [
      "Vocabulary:  {'this': 9, 'coffee': 5, 'is': 7, 'very': 10, 'bad': 3, 'and': 2, 'expensive': 6, 'not': 8, 'cheap': 4, 'amazing': 1, 'affordable': 0}\n"
     ]
    }
   ],
   "source": [
    "vectorizer=CountVectorizer()\n",
    "vectorizer.fit(corpus)\n",
    "print('Vocabulary: ',vectorizer.vocabulary_)"
   ]
  },
  {
   "cell_type": "code",
   "execution_count": 67,
   "id": "d5ed2e1c",
   "metadata": {},
   "outputs": [
    {
     "name": "stdout",
     "output_type": "stream",
     "text": [
      "[[0 0 1 1 0 1 1 2 0 1 1]\n",
      " [0 0 1 1 1 1 0 2 1 1 0]\n",
      " [1 1 1 0 0 1 0 2 2 1 0]]\n"
     ]
    }
   ],
   "source": [
    "vector=vectorizer.transform(corpus)\n",
    "print(vector.toarray())"
   ]
  },
  {
   "cell_type": "code",
   "execution_count": null,
   "id": "e0bc897d",
   "metadata": {},
   "outputs": [],
   "source": []
  }
 ],
 "metadata": {
  "kernelspec": {
   "display_name": "Python 3 (ipykernel)",
   "language": "python",
   "name": "python3"
  },
  "language_info": {
   "codemirror_mode": {
    "name": "ipython",
    "version": 3
   },
   "file_extension": ".py",
   "mimetype": "text/x-python",
   "name": "python",
   "nbconvert_exporter": "python",
   "pygments_lexer": "ipython3",
   "version": "3.9.7"
  }
 },
 "nbformat": 4,
 "nbformat_minor": 5
}
